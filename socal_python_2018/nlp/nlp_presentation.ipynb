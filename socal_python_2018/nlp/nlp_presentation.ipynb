{
 "cells": [
  {
   "cell_type": "code",
   "execution_count": 1,
   "metadata": {
    "slideshow": {
     "slide_type": "skip"
    }
   },
   "outputs": [],
   "source": [
    "%matplotlib inline"
   ]
  },
  {
   "cell_type": "markdown",
   "metadata": {
    "slideshow": {
     "slide_type": "slide"
    }
   },
   "source": [
    "# Building NLP Tools for SEO\n",
    "\n",
    "##### Nikhil Almeida\n",
    "##### Sr. Manager, Data Science\n",
    "##### Consumer Track"
   ]
  },
  {
   "cell_type": "markdown",
   "metadata": {
    "slideshow": {
     "slide_type": "slide"
    }
   },
   "source": [
    "# Agenda\n",
    "* SEO\n",
    "* NLP using TextBlob\n",
    "    * Parts-of-Speech Tagging\n",
    "    * Sentiment Analysis\n",
    "    * Word Inflection\n",
    "    * Lemmatization\n",
    "    * Spell Check\n",
    "    * Language Detection and Translation\n",
    "* Word Distances\n",
    "* Word Vectorization\n",
    "    * Count Vectorizers\n",
    "    * TF-IDF\n",
    "    * Word2Vec\n",
    "    * Paragraph2Vec\n",
    "* Vector Visualization    \n"
   ]
  },
  {
   "cell_type": "markdown",
   "metadata": {
    "slideshow": {
     "slide_type": "slide"
    }
   },
   "source": [
    "### What is SEO?\n",
    "SEO stands for “search engine optimization.” It is the process of getting traffic from the “free,” “organic,” “editorial” or “natural” search results on search engines.\n"
   ]
  },
  {
   "cell_type": "markdown",
   "metadata": {
    "slideshow": {
     "slide_type": "slide"
    }
   },
   "source": [
    "### SEO Success Factors\n",
    "\n",
    "|On Page|Off Page   |\n",
    "|---|---|\n",
    "|Quality   |Authority   |\n",
    "|Content Research|Engage   |\n",
    "|Words   |Link Quality   |\n",
    "|Fresh|Link Text|\n",
    "|Answers|Social Reputation|\n",
    "|Thin|Number of Ads|\n",
    "|Relevant Titles|Site History|\n",
    "\n"
   ]
  },
  {
   "cell_type": "markdown",
   "metadata": {
    "slideshow": {
     "slide_type": "slide"
    }
   },
   "source": [
    "<img src=\"./img/2017-SEO_Periodic_Table.png\" />\n",
    "https://searchengineland.com/seotable"
   ]
  },
  {
   "cell_type": "markdown",
   "metadata": {
    "slideshow": {
     "slide_type": "slide"
    }
   },
   "source": [
    "## SEO Metrics\n",
    "\n",
    "* **Keywords**\n",
    "* **Search Volume**\n",
    "* **Keyword Potential** \n",
    "* **Keyword opportunity**\n",
    "* **SERP Ranks**\n",
    "* **Topic Authority**"
   ]
  },
  {
   "cell_type": "markdown",
   "metadata": {
    "slideshow": {
     "slide_type": "slide"
    }
   },
   "source": [
    "## SEO Data Sources\n",
    "* **[Google Adwords](https://google.com/adwords)**\n",
    "* **[SEMRUSH](https://semrush.com)**\n",
    "* **[MOZ Keywords Planner](https://moz.com)**\n",
    "* **[Keyword Tool](https://keywordtool.io)**\n",
    "* **[Google Search Console](https://www.google.com/webmasters)**\n",
    "* **[Deep Crawl](https://www.deepcrawl.com/)**\n",
    "* **[AHRefs](https://www.ahrefs.com/)**\n",
    "* **[Answer The Public](https://answerthepublic.com/)**"
   ]
  },
  {
   "cell_type": "markdown",
   "metadata": {
    "slideshow": {
     "slide_type": "slide"
    }
   },
   "source": [
    "# Tools Built\n",
    "* Related Content Module\n",
    "* Content De-Duplication\n",
    "* Question Detection\n",
    "* Title / Brief Creation\n",
    "* Topic Authority\n",
    "* Topic Detection\n",
    "* Keyword Classification into Topics\n",
    "* Keyword Potential\n",
    "* Text Summarization"
   ]
  },
  {
   "cell_type": "markdown",
   "metadata": {
    "slideshow": {
     "slide_type": "slide"
    }
   },
   "source": [
    "# Text Blob\n",
    "\n",
    "TextBlob aims to provide access to common text-processing operations through a familiar interface. You can treat TextBlob objects as if they were Python strings that learned how to do Natural Language Processing.\n"
   ]
  },
  {
   "cell_type": "code",
   "execution_count": 2,
   "metadata": {
    "slideshow": {
     "slide_type": "-"
    }
   },
   "outputs": [
    {
     "data": {
      "text/plain": [
       "[Sentence(\"A mad boxer sent a quick, gloved jab to the jaw of his dizzy opponent.\"),\n",
       " Sentence(\"The quick brown fox jumps over the lazy dog.\"),\n",
       " Sentence(\"The five boxing wizards jump quickly.\")]"
      ]
     },
     "execution_count": 2,
     "metadata": {},
     "output_type": "execute_result"
    }
   ],
   "source": [
    "from textblob import TextBlob\n",
    "blob = TextBlob(\"A mad boxer sent a quick, gloved jab to the jaw of his dizzy opponent. The quick brown fox jumps over the lazy dog. The five boxing wizards jump quickly.\")\n",
    "blob.sentences\n"
   ]
  },
  {
   "cell_type": "code",
   "execution_count": 95,
   "metadata": {
    "slideshow": {
     "slide_type": "slide"
    }
   },
   "outputs": [
    {
     "data": {
      "text/plain": [
       "WordList(['A', 'mad', 'boxer', 'sent', 'a', 'quick', 'gloved', 'jab', 'to', 'the', 'jaw', 'of', 'his', 'dizzy', 'opponent'])"
      ]
     },
     "execution_count": 95,
     "metadata": {},
     "output_type": "execute_result"
    }
   ],
   "source": [
    "blob.sentences[0].words"
   ]
  },
  {
   "cell_type": "markdown",
   "metadata": {
    "slideshow": {
     "slide_type": "slide"
    }
   },
   "source": [
    "### Part-of-Speech Tagging"
   ]
  },
  {
   "cell_type": "code",
   "execution_count": 105,
   "metadata": {
    "slideshow": {
     "slide_type": "skip"
    }
   },
   "outputs": [],
   "source": [
    "pos_mapper = {\"CC\": \"Coordinating conjunction\",\n",
    "\"CD\": \"Cardinal number\",\n",
    "\"DT\": \"Determiner\",\n",
    "\"EX\": \"Existential there\",\n",
    "\"FW\": \"Foreign word\",\n",
    "\"IN\": \"Preposition or subordinating conjunction\",\n",
    "\"JJ\": \"Adjective\",\n",
    "\"JJR\": \"Adjective, comparative\",\n",
    "\"JJS\": \"Adjective, superlative\",\n",
    "\"LS\": \"List item marker\",\n",
    "\"MD\": \"Modal\",\n",
    "\"NN\": \"Noun, singular or mass\",\n",
    "\"NNS\": \"Noun, plural\",\n",
    "\"NNP\": \"Proper noun, singular\",\n",
    "\"NNPS\": \"Proper noun, plural\",\n",
    "\"PDT\": \"Predeterminer\",\n",
    "\"POS\": \"Possessive ending\",\n",
    "\"PRP\": \"Personal pronoun\",\n",
    "\"PRP$\": \"Possessive pronoun\",\n",
    "\"RB\": \"Adverb\",\n",
    "\"RBR\": \"Adverb, comparative\",\n",
    "\"RBS\": \"Adverb, superlative\",\n",
    "\"RP\": \"Particle\",\n",
    "\"SYM\": \"Symbol\",\n",
    "\"TO\": \"to\",\n",
    "\"UH\": \"Interjection\",\n",
    "\"VB\": \"Verb, base form\",\n",
    "\"VBD\": \"Verb, past tense\",\n",
    "\"VBG\": \"Verb, gerund or present participle\",\n",
    "\"VBN\": \"Verb, past participle\",\n",
    "\"VBP\": \"Verb, non-3rd person singular present\",\n",
    "\"VBZ\": \"Verb, 3rd person singular present\",\n",
    "\"WDT\": \"Wh-determiner\",\n",
    "\"WP\": \"Wh-pronoun\",\n",
    "\"WP$\": \"Possessive wh-pronoun\",\n",
    "\"WRB\": \"Wh-adverb\"}\n"
   ]
  },
  {
   "cell_type": "markdown",
   "metadata": {
    "slideshow": {
     "slide_type": "notes"
    }
   },
   "source": [
    "## References\n",
    "* https://www.ling.upenn.edu/courses/Fall_2003/ling001/penn_treebank_pos.html\n",
    "* http://language.worldofcomputing.net/pos-tagging/parts-of-speech-tagging.html"
   ]
  },
  {
   "cell_type": "code",
   "execution_count": 106,
   "metadata": {
    "slideshow": {
     "slide_type": "-"
    }
   },
   "outputs": [
    {
     "name": "stdout",
     "output_type": "stream",
     "text": [
      "The quick brown fox jumps over the lazy dog. \n",
      "\n",
      " Tags:  [('The', 'DT'), ('quick', 'JJ'), ('brown', 'NN'), ('fox', 'NN'), ('jumps', 'VBZ'), ('over', 'IN'), ('the', 'DT'), ('lazy', 'JJ'), ('dog', 'NN')] \n",
      "\n",
      "The---DT---Determiner\n",
      "quick---JJ---Adjective\n",
      "brown---NN---Noun, singular or mass\n",
      "fox---NN---Noun, singular or mass\n",
      "jumps---VBZ---Verb, 3rd person singular present\n",
      "over---IN---Preposition or subordinating conjunction\n",
      "the---DT---Determiner\n",
      "lazy---JJ---Adjective\n",
      "dog---NN---Noun, singular or mass\n"
     ]
    }
   ],
   "source": [
    "sentence = blob.sentences[1]\n",
    "print(sentence, \"\\n\\n\", \"Tags: \", sentence.tags, '\\n')\n",
    "for tag in sentence.tags:\n",
    "    print(\"{}---{}---{}\".format(tag[0], tag[1], pos_mapper[tag[1]]))\n",
    "\n"
   ]
  },
  {
   "cell_type": "markdown",
   "metadata": {
    "slideshow": {
     "slide_type": "slide"
    }
   },
   "source": [
    "### Noun Phrases\n",
    "A noun phrase includes a noun—a person, place, or thing—and the modifiers which distinguish it.\n"
   ]
  },
  {
   "cell_type": "code",
   "execution_count": 392,
   "metadata": {},
   "outputs": [
    {
     "name": "stdout",
     "output_type": "stream",
     "text": [
      "A mad boxer sent a quick, gloved jab to the jaw of his dizzy opponent.\n"
     ]
    },
    {
     "data": {
      "text/plain": [
       "WordList(['mad boxer', 'dizzy opponent'])"
      ]
     },
     "execution_count": 392,
     "metadata": {},
     "output_type": "execute_result"
    }
   ],
   "source": [
    "print(blob.sentences[0])\n",
    "blob.sentences[0].noun_phrases"
   ]
  },
  {
   "cell_type": "markdown",
   "metadata": {
    "slideshow": {
     "slide_type": "slide"
    }
   },
   "source": [
    "### Applications of POS Tagging\n",
    "* Word Sense Disambiguation (Easy Search Improvements)\n",
    "* Named Entity Resolution\n",
    "* Sentiment Analysis\n",
    "* Question Answering"
   ]
  },
  {
   "cell_type": "markdown",
   "metadata": {
    "slideshow": {
     "slide_type": "slide"
    }
   },
   "source": [
    "####  Word Sense Disambiguation (Easy Search Improvements)"
   ]
  },
  {
   "cell_type": "code",
   "execution_count": 228,
   "metadata": {
    "slideshow": {
     "slide_type": "-"
    }
   },
   "outputs": [
    {
     "data": {
      "text/plain": [
       "'How_WRB to_TO fish_VB a_DT fish_NN'"
      ]
     },
     "execution_count": 228,
     "metadata": {},
     "output_type": "execute_result"
    }
   ],
   "source": [
    "title = 'How to fish a fish?'\n",
    "\" \".join([\"{}_{}\".format(word, tag) for word, tag in TextBlob(title).tags])\n"
   ]
  },
  {
   "cell_type": "markdown",
   "metadata": {
    "slideshow": {
     "slide_type": "slide"
    }
   },
   "source": [
    "#### Question Detection"
   ]
  },
  {
   "cell_type": "code",
   "execution_count": 4,
   "metadata": {
    "slideshow": {
     "slide_type": "skip"
    }
   },
   "outputs": [],
   "source": [
    "import spacy\n",
    "import json\n",
    "from nltk import Tree\n",
    "import os\n",
    "nlp = spacy.load('en')\n",
    "from IPython.display import display, Markdown, Latex\n"
   ]
  },
  {
   "cell_type": "code",
   "execution_count": 5,
   "metadata": {
    "slideshow": {
     "slide_type": "skip"
    }
   },
   "outputs": [],
   "source": [
    "# Tree Visualizer\n",
    "def tok_format(tok):\n",
    "    return \"_\".join([tok.orth_, tok.tag_, str(tok.dep_)])\n",
    "\n",
    "\n",
    "def to_nltk_tree(node):\n",
    "    if node.n_lefts + node.n_rights > 0:\n",
    "        return Tree(tok_format(node), [to_nltk_tree(child) for child in node.children])\n",
    "    else:\n",
    "        return tok_format(node)\n",
    "\n",
    "def print_tree(sent):\n",
    "    doc = nlp(sent)\n",
    "    print(sent)\n",
    "    [to_nltk_tree(sent.root).pretty_print() for sent in doc.sents]  "
   ]
  },
  {
   "cell_type": "code",
   "execution_count": 6,
   "metadata": {
    "slideshow": {
     "slide_type": "-"
    }
   },
   "outputs": [
    {
     "name": "stdout",
     "output_type": "stream",
     "text": [
      "How was the moon formed?\n",
      "               formed_VBN_ROOT                           \n",
      "       _______________|_________________________          \n",
      "      |               |            |     moon_NN_nsubjpas\n",
      "      |               |            |            s        \n",
      "      |               |            |            |         \n",
      "How_WRB_advmod was_VBD_auxpass ?_._punct    the_DT_det   \n",
      "\n"
     ]
    }
   ],
   "source": [
    "print_tree(\"How was the moon formed?\")\n"
   ]
  },
  {
   "cell_type": "code",
   "execution_count": 117,
   "metadata": {
    "slideshow": {
     "slide_type": "slide"
    }
   },
   "outputs": [
    {
     "name": "stdout",
     "output_type": "stream",
     "text": [
      "Is California the best state in the union?\n",
      "                     Is_VBZ_ROOT                               \n",
      "     _____________________|_____________                        \n",
      "    |                            California_NNP_n              \n",
      "    |                                  subj                    \n",
      "    |                                   |                       \n",
      "    |                             state_NN_appos               \n",
      "    |          _________________________|_______________        \n",
      "    |         |                         |           in_IN_prep \n",
      "    |         |                         |               |       \n",
      "    |         |                         |         union_NN_pobj\n",
      "    |         |                         |               |       \n",
      "?_._punct the_DT_det              best_JJS_amod     the_DT_det \n",
      "\n"
     ]
    }
   ],
   "source": [
    "print_tree(\"Is California the best state in the union?\")"
   ]
  },
  {
   "cell_type": "markdown",
   "metadata": {
    "slideshow": {
     "slide_type": "slide"
    }
   },
   "source": [
    "<img src=\"./img/spacy dependency visualizer.png\" />"
   ]
  },
  {
   "cell_type": "code",
   "execution_count": 123,
   "metadata": {
    "slideshow": {
     "slide_type": "slide"
    }
   },
   "outputs": [],
   "source": [
    "def is_question(_sentence):\n",
    "    sentence = list(nlp(_sentence).sents)[0]\n",
    "    if len(sentence) > 15:\n",
    "        return False\n",
    "    root = sentence.root\n",
    "    _is_question = False\n",
    "    ROOT_QUESTION_VERBS = ['VBD','VBG','VBN', 'VBP','VBZ', 'MD', 'TO']\n",
    "    VERBS = [ 'VBD','VBG','VBN', 'VBP', 'VBZ','MD', 'TO', 'VB']\n",
    "    WH_QUESTIONS = ['WP', 'WP$', 'WRB', 'WDT']\n",
    "\n",
    "    if root.n_lefts == 0: \n",
    "        return root.tag_ in set(ROOT_QUESTION_VERBS  + VERBS)\n",
    "\n",
    "    for child in root.lefts:\n",
    "        if child.tag_ in WH_QUESTIONS:\n",
    "            continue\n",
    "        if child.tag_ in VERBS:\n",
    "            if child.dep_ == 'aux':\n",
    "                return True\n",
    "        return False\n",
    "    return True\n"
   ]
  },
  {
   "cell_type": "code",
   "execution_count": 126,
   "metadata": {
    "slideshow": {
     "slide_type": "slide"
    }
   },
   "outputs": [
    {
     "data": {
      "text/plain": [
       "True"
      ]
     },
     "execution_count": 126,
     "metadata": {},
     "output_type": "execute_result"
    }
   ],
   "source": [
    "is_question(\"Is California the best state in the union\")"
   ]
  },
  {
   "cell_type": "code",
   "execution_count": 127,
   "metadata": {
    "slideshow": {
     "slide_type": "-"
    }
   },
   "outputs": [
    {
     "data": {
      "text/plain": [
       "True"
      ]
     },
     "execution_count": 127,
     "metadata": {},
     "output_type": "execute_result"
    }
   ],
   "source": [
    "is_question(\"Did the brown fox jump over the lazy dog.\")"
   ]
  },
  {
   "cell_type": "code",
   "execution_count": 128,
   "metadata": {
    "slideshow": {
     "slide_type": "-"
    }
   },
   "outputs": [
    {
     "data": {
      "text/plain": [
       "True"
      ]
     },
     "execution_count": 128,
     "metadata": {},
     "output_type": "execute_result"
    }
   ],
   "source": [
    "is_question(\"Will Anthony go to Tokyo\")"
   ]
  },
  {
   "cell_type": "markdown",
   "metadata": {
    "slideshow": {
     "slide_type": "slide"
    }
   },
   "source": [
    "### Sentiment Analysis"
   ]
  },
  {
   "cell_type": "code",
   "execution_count": 133,
   "metadata": {},
   "outputs": [
    {
     "name": "stdout",
     "output_type": "stream",
     "text": [
      "Sentiment(polarity=0.8, subjectivity=0.75)\n"
     ]
    }
   ],
   "source": [
    "print(TextBlob(\"I think california is great\").sentiment)"
   ]
  },
  {
   "cell_type": "code",
   "execution_count": 135,
   "metadata": {},
   "outputs": [
    {
     "name": "stdout",
     "output_type": "stream",
     "text": [
      "Sentiment(polarity=-0.4, subjectivity=0.75)\n"
     ]
    }
   ],
   "source": [
    "print(TextBlob(\"california is not great\").sentiment)"
   ]
  },
  {
   "cell_type": "code",
   "execution_count": 143,
   "metadata": {},
   "outputs": [
    {
     "name": "stdout",
     "output_type": "stream",
     "text": [
      "Sentiment(polarity=0.0, subjectivity=0.0)\n"
     ]
    }
   ],
   "source": [
    "print(TextBlob(\"california's has a population of 39.4M people\").sentiment)"
   ]
  },
  {
   "cell_type": "markdown",
   "metadata": {
    "slideshow": {
     "slide_type": "slide"
    }
   },
   "source": [
    "### Word Inflection"
   ]
  },
  {
   "cell_type": "code",
   "execution_count": 174,
   "metadata": {
    "slideshow": {
     "slide_type": "-"
    }
   },
   "outputs": [
    {
     "data": {
      "text/plain": [
       "TextBlob(\"Use 4 spaces per indentation level.\")"
      ]
     },
     "execution_count": 174,
     "metadata": {},
     "output_type": "execute_result"
    }
   ],
   "source": [
    "sentence = TextBlob('Use 4 spaces per indentation level.')\n",
    "sentence"
   ]
  },
  {
   "cell_type": "code",
   "execution_count": 175,
   "metadata": {
    "slideshow": {
     "slide_type": "-"
    }
   },
   "outputs": [
    {
     "data": {
      "text/plain": [
       "'space'"
      ]
     },
     "execution_count": 175,
     "metadata": {},
     "output_type": "execute_result"
    }
   ],
   "source": [
    "sentence.words[2].singularize()"
   ]
  },
  {
   "cell_type": "code",
   "execution_count": 176,
   "metadata": {
    "slideshow": {
     "slide_type": "-"
    }
   },
   "outputs": [
    {
     "data": {
      "text/plain": [
       "'levels'"
      ]
     },
     "execution_count": 176,
     "metadata": {},
     "output_type": "execute_result"
    }
   ],
   "source": [
    "sentence.words[-1].pluralize()"
   ]
  },
  {
   "cell_type": "markdown",
   "metadata": {
    "slideshow": {
     "slide_type": "slide"
    }
   },
   "source": [
    "### Lemmatization"
   ]
  },
  {
   "cell_type": "code",
   "execution_count": 177,
   "metadata": {},
   "outputs": [
    {
     "data": {
      "text/plain": [
       "'octopus'"
      ]
     },
     "execution_count": 177,
     "metadata": {},
     "output_type": "execute_result"
    }
   ],
   "source": [
    "from textblob import Word\n",
    "w = Word(\"octopi\")\n",
    "w.lemmatize()"
   ]
  },
  {
   "cell_type": "code",
   "execution_count": 178,
   "metadata": {},
   "outputs": [
    {
     "data": {
      "text/plain": [
       "'go'"
      ]
     },
     "execution_count": 178,
     "metadata": {},
     "output_type": "execute_result"
    }
   ],
   "source": [
    "w = Word(\"went\")\n",
    "w.lemmatize(\"v\")  # Pass in WordNet part of speech (verb)"
   ]
  },
  {
   "cell_type": "markdown",
   "metadata": {
    "slideshow": {
     "slide_type": "slide"
    }
   },
   "source": [
    "### Spell Check"
   ]
  },
  {
   "cell_type": "code",
   "execution_count": 193,
   "metadata": {},
   "outputs": [
    {
     "data": {
      "text/plain": [
       "[('count', 0.620746887966805),\n",
       " ('country', 0.3510373443983402),\n",
       " ('county', 0.014107883817427386),\n",
       " ('counter', 0.012448132780082987),\n",
       " ('counts', 0.0016597510373443983)]"
      ]
     },
     "execution_count": 193,
     "metadata": {},
     "output_type": "execute_result"
    }
   ],
   "source": [
    "from textblob import Word\n",
    "w = Word('countr')\n",
    "w.spellcheck()"
   ]
  },
  {
   "cell_type": "code",
   "execution_count": 195,
   "metadata": {
    "slideshow": {
     "slide_type": "slide"
    }
   },
   "outputs": [
    {
     "data": {
      "text/plain": [
       "[('fallibility', 1.0)]"
      ]
     },
     "execution_count": 195,
     "metadata": {},
     "output_type": "execute_result"
    }
   ],
   "source": [
    "w = Word('fallibility')\n",
    "w.spellcheck()"
   ]
  },
  {
   "cell_type": "code",
   "execution_count": 196,
   "metadata": {
    "slideshow": {
     "slide_type": "-"
    }
   },
   "outputs": [
    {
     "data": {
      "text/plain": [
       "TextBlob(\"I have good spelling!\")"
      ]
     },
     "execution_count": 196,
     "metadata": {},
     "output_type": "execute_result"
    }
   ],
   "source": [
    "b = TextBlob(\"I havv goood speling!\")\n",
    "b.correct()"
   ]
  },
  {
   "cell_type": "markdown",
   "metadata": {
    "slideshow": {
     "slide_type": "slide"
    }
   },
   "source": [
    "### Language Translation"
   ]
  },
  {
   "cell_type": "code",
   "execution_count": 197,
   "metadata": {},
   "outputs": [
    {
     "data": {
      "text/plain": [
       "TextBlob(\"Simple es mejor que complejo.\")"
      ]
     },
     "execution_count": 197,
     "metadata": {},
     "output_type": "execute_result"
    }
   ],
   "source": [
    "en_blob = TextBlob(u'Simple is better than complex.')\n",
    "en_blob.translate(to='es')"
   ]
  },
  {
   "cell_type": "markdown",
   "metadata": {
    "slideshow": {
     "slide_type": "slide"
    }
   },
   "source": [
    "### Language Detection"
   ]
  },
  {
   "cell_type": "code",
   "execution_count": 200,
   "metadata": {},
   "outputs": [
    {
     "data": {
      "text/plain": [
       "'ar'"
      ]
     },
     "execution_count": 200,
     "metadata": {},
     "output_type": "execute_result"
    }
   ],
   "source": [
    "b = TextBlob(u\"بسيط هو أفضل من مجمع\")\n",
    "b.detect_language()"
   ]
  },
  {
   "cell_type": "markdown",
   "metadata": {
    "slideshow": {
     "slide_type": "slide"
    }
   },
   "source": [
    "## Word Distances"
   ]
  },
  {
   "cell_type": "markdown",
   "metadata": {
    "slideshow": {
     "slide_type": "skip"
    }
   },
   "source": [
    "##### References\n",
    "* [Levenshtein Distance and Library Reference](https://rawgit.com/ztane/python-Levenshtein/master/docs/Levenshtein.html)\n",
    "* [JARO Distance](https://rosettacode.org/wiki/Jaro_distance)"
   ]
  },
  {
   "cell_type": "markdown",
   "metadata": {
    "slideshow": {
     "slide_type": "slide"
    }
   },
   "source": [
    "####  Levenshtein Distance\n",
    "The distance is the number of deletions, insertions, or substitutions required to transform string A into string B."
   ]
  },
  {
   "cell_type": "code",
   "execution_count": 179,
   "metadata": {
    "slideshow": {
     "slide_type": "-"
    }
   },
   "outputs": [],
   "source": [
    "import Levenshtein"
   ]
  },
  {
   "cell_type": "code",
   "execution_count": 149,
   "metadata": {
    "slideshow": {
     "slide_type": "-"
    }
   },
   "outputs": [
    {
     "data": {
      "text/plain": [
       "1"
      ]
     },
     "execution_count": 149,
     "metadata": {},
     "output_type": "execute_result"
    }
   ],
   "source": [
    "A = \"SoCal Python\"\n",
    "B = \"So Cal Python\"\n",
    "Levenshtein.distance(A, B)"
   ]
  },
  {
   "cell_type": "markdown",
   "metadata": {
    "slideshow": {
     "slide_type": "slide"
    }
   },
   "source": [
    "#### Hamming Distance\n",
    "The Hamming distance is simply the number of differing characters. That means the length of the strings must be the same."
   ]
  },
  {
   "cell_type": "code",
   "execution_count": 152,
   "metadata": {
    "slideshow": {
     "slide_type": "-"
    }
   },
   "outputs": [
    {
     "data": {
      "text/plain": [
       "2"
      ]
     },
     "execution_count": 152,
     "metadata": {},
     "output_type": "execute_result"
    }
   ],
   "source": [
    "A = \"Southern California Python\"\n",
    "B = \"Northern California Python\"\n",
    "Levenshtein.hamming(A, B)"
   ]
  },
  {
   "cell_type": "markdown",
   "metadata": {
    "slideshow": {
     "slide_type": "slide"
    }
   },
   "source": [
    "#### Jaro\n",
    "The Jaro algorithm is a measure of characters in common, being no more than half the length of the longer string in distance, with consideration for transpositions. The Jaro string similarity metric is intended for short strings like personal last names. It is 0 for completely different strings and 1 for identical strings.\n",
    "\n",
    "#### Jaro-Winkler\n",
    "The Jaro-Winkler string similarity metric is a modification of Jaro metric giving more weight to common prefix, as spelling mistakes are more likely to occur near ends of words.\n",
    "\n",
    "The prefix weight is inverse value of common prefix length sufficient to consider the strings *identical*. If no prefix weight is specified, 1/10 is used."
   ]
  },
  {
   "cell_type": "markdown",
   "metadata": {
    "slideshow": {
     "slide_type": "slide"
    }
   },
   "source": [
    "### Jaro-Winkler"
   ]
  },
  {
   "cell_type": "code",
   "execution_count": 169,
   "metadata": {
    "slideshow": {
     "slide_type": "-"
    }
   },
   "outputs": [
    {
     "name": "stdout",
     "output_type": "stream",
     "text": [
      "JARO\t\t:  0.8627450980392157\n",
      "JARO-Winkler\t:  0.9862745098039216\n"
     ]
    }
   ],
   "source": [
    "A = \"California\"\n",
    "B = \"Californification\"\n",
    "\n",
    "print(\"JARO\\t\\t: \",Levenshtein.jaro(A, B))\n",
    "print(\"JARO-Winkler\\t: \",Levenshtein.jaro_winkler(A, B))"
   ]
  },
  {
   "cell_type": "markdown",
   "metadata": {
    "slideshow": {
     "slide_type": "slide"
    }
   },
   "source": [
    "#### Median\n",
    "Find an approximate generalized median string using greedy algorithm."
   ]
  },
  {
   "cell_type": "code",
   "execution_count": 170,
   "metadata": {},
   "outputs": [
    {
     "data": {
      "text/plain": [
       "'Levenshtein'"
      ]
     },
     "execution_count": 170,
     "metadata": {},
     "output_type": "execute_result"
    }
   ],
   "source": [
    "fixme = ['Levnhtein', 'Leveshein', 'Leenshten', 'Leveshtei', 'Lenshtein', 'Lvenstein', 'Levenhtin', 'evenshtei']\n",
    "Levenshtein.median(fixme)"
   ]
  },
  {
   "cell_type": "markdown",
   "metadata": {
    "slideshow": {
     "slide_type": "slide"
    }
   },
   "source": [
    "# Word and Document Vectors\n"
   ]
  },
  {
   "cell_type": "code",
   "execution_count": 13,
   "metadata": {
    "slideshow": {
     "slide_type": "skip"
    }
   },
   "outputs": [],
   "source": [
    "import numpy as np\n",
    "import pandas as pd\n",
    "import json\n",
    "\n",
    "def get_data_df(filename):\n",
    "    with open(filename) as read_file:\n",
    "        df =  pd.DataFrame([json.loads(line) for line in read_file])\n",
    "        df['text'] = df['title'] + df['text']\n",
    "    return df"
   ]
  },
  {
   "cell_type": "markdown",
   "metadata": {
    "slideshow": {
     "slide_type": "slide"
    }
   },
   "source": [
    "### Count Vectorizer\n",
    "\n",
    "\n",
    "http://andrewgaidus.com/Finding_Related_Wikipedia_Articles/"
   ]
  },
  {
   "cell_type": "code",
   "execution_count": 14,
   "metadata": {
    "slideshow": {
     "slide_type": "-"
    }
   },
   "outputs": [],
   "source": [
    "from sklearn.feature_extraction.text import CountVectorizer\n",
    "articles_df = get_data_df('./finance_articles.json')"
   ]
  },
  {
   "cell_type": "code",
   "execution_count": 15,
   "metadata": {
    "slideshow": {
     "slide_type": "-"
    }
   },
   "outputs": [],
   "source": [
    "count_vectorizer = CountVectorizer(analyzer='word', ngram_range=(1,3), min_df=5, max_df=0.5, stop_words = 'english')\n",
    "count_matrix = count_vectorizer.fit_transform(articles_df.text.tolist())\n",
    "features = count_vectorizer.get_feature_names()"
   ]
  },
  {
   "cell_type": "code",
   "execution_count": 16,
   "metadata": {
    "slideshow": {
     "slide_type": "slide"
    }
   },
   "outputs": [
    {
     "data": {
      "image/png": "[encoded data removed]",
      "text/plain": [
       "<matplotlib.figure.Figure at 0x1295107f0>"
      ]
     },
     "metadata": {},
     "output_type": "display_data"
    }
   ],
   "source": [
    "row_number = 1\n",
    "d = pd.Series(count_matrix[row_number].toarray().flatten(),  index=features).sort_values(ascending=False)\n",
    "ax = d[:10].plot(kind='bar', figsize=(10,6), width=.8, fontsize=14, rot=45, title=articles_df.loc[row_number].title)\n",
    "ax.title.set_size(18)"
   ]
  },
  {
   "cell_type": "markdown",
   "metadata": {
    "slideshow": {
     "slide_type": "slide"
    }
   },
   "source": [
    "## TF-IDF (Term Frequency - Inverse Document Frequency)\n",
    "\n",
    "> importance = appearances(term, document) / count(documents containing term in collection)\n",
    "\n",
    "\n",
    "#### Term Frequency\n",
    "```\n",
    "tf = count(word, document) / len(document)\n",
    "```\n",
    "\n",
    "#### Term Frequency\n",
    "```\n",
    "idf = log( len(collection) / count(document_containing_term, collection) )\n",
    "```\n",
    "#### TF-IDF\n",
    "```\n",
    "tf-idf = tf * idf\n",
    "```"
   ]
  },
  {
   "cell_type": "code",
   "execution_count": 17,
   "metadata": {
    "slideshow": {
     "slide_type": "slide"
    }
   },
   "outputs": [],
   "source": [
    "from sklearn.feature_extraction.text import TfidfVectorizer\n",
    "tfidf_vectorizer = TfidfVectorizer(analyzer='word', ngram_range=(1,3), min_df=5, max_df=0.5)\n",
    "tfidf_matrix = tfidf_vectorizer.fit_transform(articles_df.text.tolist())\n",
    "features = tfidf_vectorizer.get_feature_names()"
   ]
  },
  {
   "cell_type": "code",
   "execution_count": 18,
   "metadata": {
    "slideshow": {
     "slide_type": "slide"
    }
   },
   "outputs": [
    {
     "data": {
      "image/png": "[encoded data removed]",
      "text/plain": [
       "<matplotlib.figure.Figure at 0x12b52f9b0>"
      ]
     },
     "metadata": {},
     "output_type": "display_data"
    }
   ],
   "source": [
    "row_number = 1\n",
    "d = pd.Series(tfidf_matrix[row_number].toarray().flatten(),  index=features).sort_values(ascending=False)\n",
    "ax = d[:10].plot(kind='bar', figsize=(10,6), width=.8, fontsize=14, rot=45, title=articles_df.loc[row_number].title)\n",
    "ax.title.set_size(18)"
   ]
  },
  {
   "cell_type": "markdown",
   "metadata": {
    "slideshow": {
     "slide_type": "slide"
    }
   },
   "source": [
    "### Applications of TF-IDF -- Document Similarity"
   ]
  },
  {
   "cell_type": "code",
   "execution_count": 20,
   "metadata": {
    "slideshow": {
     "slide_type": "-"
    }
   },
   "outputs": [],
   "source": [
    "from sklearn.neighbors import NearestNeighbors\n",
    "\n",
    "nbrs = NearestNeighbors(n_neighbors=10).fit(tfidf_matrix)\n",
    "\n",
    "def get_closest_neighs(row_number):\n",
    "    distances, indices = nbrs.kneighbors(tfidf_matrix.getrow(row_number))\n",
    "    names_similar = pd.Series(indices.flatten()).map(articles_df.reset_index()['title'])\n",
    "    result = pd.DataFrame({'distance':distances.flatten(), 'title':names_similar})\n",
    "    return result"
   ]
  },
  {
   "cell_type": "code",
   "execution_count": 21,
   "metadata": {
    "slideshow": {
     "slide_type": "slide"
    }
   },
   "outputs": [
    {
     "name": "stdout",
     "output_type": "stream",
     "text": [
      "Avoid These Errors When Starting to Sell on eBay\n"
     ]
    },
    {
     "data": {
      "text/html": [
       "<div>\n",
       "<style scoped>\n",
       "    .dataframe tbody tr th:only-of-type {\n",
       "        vertical-align: middle;\n",
       "    }\n",
       "\n",
       "    .dataframe tbody tr th {\n",
       "        vertical-align: top;\n",
       "    }\n",
       "\n",
       "    .dataframe thead th {\n",
       "        text-align: right;\n",
       "    }\n",
       "</style>\n",
       "<table border=\"1\" class=\"dataframe\">\n",
       "  <thead>\n",
       "    <tr style=\"text-align: right;\">\n",
       "      <th></th>\n",
       "      <th>distance</th>\n",
       "      <th>title</th>\n",
       "    </tr>\n",
       "  </thead>\n",
       "  <tbody>\n",
       "    <tr>\n",
       "      <th>0</th>\n",
       "      <td>0.000000</td>\n",
       "      <td>Avoid These Errors When Starting to Sell on eBay</td>\n",
       "    </tr>\n",
       "    <tr>\n",
       "      <th>1</th>\n",
       "      <td>1.086543</td>\n",
       "      <td>30 Ways to Use Product Sourcing for eBay Selling</td>\n",
       "    </tr>\n",
       "    <tr>\n",
       "      <th>2</th>\n",
       "      <td>1.135407</td>\n",
       "      <td>Swedish Fish Flavored Oreos Selling on eBay fo...</td>\n",
       "    </tr>\n",
       "    <tr>\n",
       "      <th>3</th>\n",
       "      <td>1.230878</td>\n",
       "      <td>eBay Feedback Evaluation Percentage Quick Guide</td>\n",
       "    </tr>\n",
       "    <tr>\n",
       "      <th>4</th>\n",
       "      <td>1.299745</td>\n",
       "      <td>Best eBay Black Friday Tablet Deals, 2014</td>\n",
       "    </tr>\n",
       "    <tr>\n",
       "      <th>5</th>\n",
       "      <td>1.322074</td>\n",
       "      <td>5 Places to Buy a Used Cell Phone and What to ...</td>\n",
       "    </tr>\n",
       "    <tr>\n",
       "      <th>6</th>\n",
       "      <td>1.331493</td>\n",
       "      <td>Markdowns Cost Money</td>\n",
       "    </tr>\n",
       "    <tr>\n",
       "      <th>7</th>\n",
       "      <td>1.335373</td>\n",
       "      <td>Has Your Real Estate Listing Expired?</td>\n",
       "    </tr>\n",
       "    <tr>\n",
       "      <th>8</th>\n",
       "      <td>1.337559</td>\n",
       "      <td>Small Business Accounting With Quickbooks - An...</td>\n",
       "    </tr>\n",
       "    <tr>\n",
       "      <th>9</th>\n",
       "      <td>1.343666</td>\n",
       "      <td>Real Estate Website Forms and Drip Email: How ...</td>\n",
       "    </tr>\n",
       "  </tbody>\n",
       "</table>\n",
       "</div>"
      ],
      "text/plain": [
       "   distance                                              title\n",
       "0  0.000000   Avoid These Errors When Starting to Sell on eBay\n",
       "1  1.086543   30 Ways to Use Product Sourcing for eBay Selling\n",
       "2  1.135407  Swedish Fish Flavored Oreos Selling on eBay fo...\n",
       "3  1.230878    eBay Feedback Evaluation Percentage Quick Guide\n",
       "4  1.299745          Best eBay Black Friday Tablet Deals, 2014\n",
       "5  1.322074  5 Places to Buy a Used Cell Phone and What to ...\n",
       "6  1.331493                               Markdowns Cost Money\n",
       "7  1.335373              Has Your Real Estate Listing Expired?\n",
       "8  1.337559  Small Business Accounting With Quickbooks - An...\n",
       "9  1.343666  Real Estate Website Forms and Drip Email: How ..."
      ]
     },
     "execution_count": 21,
     "metadata": {},
     "output_type": "execute_result"
    }
   ],
   "source": [
    "print(articles_df.loc[2].title)\n",
    "get_closest_neighs(2)"
   ]
  },
  {
   "cell_type": "markdown",
   "metadata": {
    "slideshow": {
     "slide_type": "slide"
    }
   },
   "source": [
    "### Applications of TF-IDF -- Topic Modelling"
   ]
  },
  {
   "cell_type": "code",
   "execution_count": 8,
   "metadata": {
    "slideshow": {
     "slide_type": "skip"
    }
   },
   "outputs": [],
   "source": [
    "import textacy"
   ]
  },
  {
   "cell_type": "code",
   "execution_count": 29,
   "metadata": {
    "slideshow": {
     "slide_type": "-"
    }
   },
   "outputs": [
    {
     "data": {
      "text/plain": [
       "<matplotlib.axes._subplots.AxesSubplot at 0x1289626d8>"
      ]
     },
     "execution_count": 29,
     "metadata": {},
     "output_type": "execute_result"
    },
    {
     "data": {
      "image/png": "[encoded data removed]",
      "text/plain": [
       "<matplotlib.figure.Figure at 0x128929f98>"
      ]
     },
     "metadata": {},
     "output_type": "display_data"
    }
   ],
   "source": [
    "model = textacy.tm.TopicModel('nmf', n_topics=7)\n",
    "model.fit(tfidf_matrix)\n",
    "model.termite_plot(tfidf_matrix, tfidf_vectorizer.get_feature_names(), topics=-1,  n_terms=10, sort_terms_by='seriation')"
   ]
  },
  {
   "cell_type": "markdown",
   "metadata": {
    "slideshow": {
     "slide_type": "slide"
    }
   },
   "source": [
    "## You shall know a word by the company it keeps  —  J. R. Firth"
   ]
  },
  {
   "cell_type": "markdown",
   "metadata": {
    "slideshow": {
     "slide_type": "slide"
    }
   },
   "source": [
    "## Word2vec\n",
    "Word2Vec is a group of models which helps derive relations between a word and its contextual words.\n",
    "* Skip-grams \n",
    "* CBOW"
   ]
  },
  {
   "cell_type": "markdown",
   "metadata": {
    "slideshow": {
     "slide_type": "slide"
    }
   },
   "source": [
    "<img src=\"./img/skipgram.png\" />\n",
    "\n",
    "https://towardsdatascience.com/word-to-vectors-natural-language-processing-b253dd0b0817"
   ]
  },
  {
   "cell_type": "markdown",
   "metadata": {
    "slideshow": {
     "slide_type": "slide"
    }
   },
   "source": [
    "### Using Pre-trained word vectors"
   ]
  },
  {
   "cell_type": "code",
   "execution_count": 376,
   "metadata": {
    "slideshow": {
     "slide_type": "-"
    }
   },
   "outputs": [],
   "source": [
    "%%time \n",
    "from gensim.models.keyedvectors import KeyedVectors\n",
    "if 0:\n",
    "    # https://drive.google.com/file/d/0B7XkCwpI5KDYNlNUTTlSS21pQmM/edit\n",
    "    model = KeyedVectors.load_word2vec_format('GoogleNews-vectors-negative300.bin', binary=True) "
   ]
  },
  {
   "cell_type": "code",
   "execution_count": 384,
   "metadata": {
    "slideshow": {
     "slide_type": "slide"
    }
   },
   "outputs": [
    {
     "data": {
      "text/plain": [
       "[('dogs', 0.8680489659309387),\n",
       " ('puppy', 0.8106428384780884),\n",
       " ('pit_bull', 0.7803961038589478),\n",
       " ('pooch', 0.7627376914024353),\n",
       " ('cat', 0.7609456777572632),\n",
       " ('golden_retriever', 0.7500901818275452),\n",
       " ('German_shepherd', 0.7465174198150635),\n",
       " ('Rottweiler', 0.7437615394592285),\n",
       " ('beagle', 0.7418622970581055),\n",
       " ('pup', 0.7406911253929138)]"
      ]
     },
     "execution_count": 384,
     "metadata": {},
     "output_type": "execute_result"
    }
   ],
   "source": [
    "model.most_similar(positive=['dog'])"
   ]
  },
  {
   "cell_type": "code",
   "execution_count": 391,
   "metadata": {
    "slideshow": {
     "slide_type": "slide"
    }
   },
   "outputs": [
    {
     "data": {
      "text/plain": [
       "[('queen', 0.7118192315101624),\n",
       " ('monarch', 0.6189674139022827),\n",
       " ('princess', 0.5902431011199951),\n",
       " ('crown_prince', 0.5499460697174072),\n",
       " ('prince', 0.5377321839332581),\n",
       " ('kings', 0.5236844420433044),\n",
       " ('Queen_Consort', 0.5235946178436279),\n",
       " ('queens', 0.5181134343147278),\n",
       " ('sultan', 0.5098593235015869),\n",
       " ('monarchy', 0.5087412595748901)]"
      ]
     },
     "execution_count": 391,
     "metadata": {},
     "output_type": "execute_result"
    }
   ],
   "source": [
    "model.most_similar(positive=['woman', 'king'], negative=['man'])"
   ]
  },
  {
   "cell_type": "code",
   "execution_count": 387,
   "metadata": {
    "slideshow": {
     "slide_type": "slide"
    }
   },
   "outputs": [
    {
     "data": {
      "text/plain": [
       "'cereal'"
      ]
     },
     "execution_count": 387,
     "metadata": {},
     "output_type": "execute_result"
    }
   ],
   "source": [
    "model.doesnt_match(\"breakfast cereal dinner lunch\".split())"
   ]
  },
  {
   "cell_type": "markdown",
   "metadata": {
    "slideshow": {
     "slide_type": "slide"
    }
   },
   "source": [
    "### Building Word Vectors"
   ]
  },
  {
   "cell_type": "code",
   "execution_count": 408,
   "metadata": {
    "slideshow": {
     "slide_type": "-"
    }
   },
   "outputs": [
    {
     "name": "stdout",
     "output_type": "stream",
     "text": [
      "CPU times: user 5.24 s, sys: 89.8 ms, total: 5.33 s\n",
      "Wall time: 1.62 s\n"
     ]
    }
   ],
   "source": [
    "%%time\n",
    "from gensim.models import Word2Vec\n",
    "import multiprocessing\n",
    "\n",
    "text =[article.split() for article in articles_df.text.tolist()]\n",
    "model = Word2Vec(text, size=300, window=6, min_count=2, workers=multiprocessing.cpu_count())"
   ]
  },
  {
   "cell_type": "code",
   "execution_count": 409,
   "metadata": {
    "slideshow": {
     "slide_type": "-"
    }
   },
   "outputs": [
    {
     "data": {
      "text/plain": [
       "[('report', 0.9994900226593018),\n",
       " ('business', 0.9994533061981201),\n",
       " ('card.', 0.9993137717247009),\n",
       " ('affect', 0.9993001818656921),\n",
       " ('back', 0.9992959499359131),\n",
       " ('debt', 0.999290943145752),\n",
       " ('calculate', 0.9992401599884033),\n",
       " ('bills', 0.9991890788078308),\n",
       " ('withholding', 0.9991739988327026),\n",
       " ('personal', 0.9991623759269714)]"
      ]
     },
     "execution_count": 409,
     "metadata": {},
     "output_type": "execute_result"
    }
   ],
   "source": [
    "model.most_similar(positive=['bank'])"
   ]
  },
  {
   "cell_type": "markdown",
   "metadata": {
    "slideshow": {
     "slide_type": "slide"
    }
   },
   "source": [
    "### Document Vectors\n",
    "* For short Documents (sentences or titles) use a weighted average of the word vectors\n",
    "* For longer documents use Paragraph2Vec. In gensim it is implemented as Doc2Vec"
   ]
  },
  {
   "cell_type": "code",
   "execution_count": 414,
   "metadata": {
    "slideshow": {
     "slide_type": "skip"
    }
   },
   "outputs": [
    {
     "name": "stdout",
     "output_type": "stream",
     "text": [
      "CPU times: user 49.3 s, sys: 3.29 s, total: 52.6 s\n",
      "Wall time: 18.5 s\n"
     ]
    }
   ],
   "source": [
    "%%time\n",
    "from gensim.models.doc2vec import Doc2Vec, LabeledSentence\n",
    "\n",
    "class LabeledLineSentence(object):\n",
    "    def __init__(self, filename):\n",
    "        self.filename = filename\n",
    "        \n",
    "    def __iter__(self):\n",
    "        with open(self.filename) as readFile:\n",
    "            for line in readFile:\n",
    "                data = json.loads(line)\n",
    "                label = data.get('label')\n",
    "                words = data.get('text','').split()\n",
    "                if not words: continue\n",
    "                yield LabeledSentence(words=words, tags=[label])\n",
    "        \n",
    "def build_doc2vec_model(clean_articles, model_file):\n",
    "    it = LabeledLineSentence(clean_articles)\n",
    "    model = Doc2Vec(size=300, window=8, min_count=2, workers=multiprocessing.cpu_count(), alpha=0.025, min_alpha=0.025) # use fixed learning rate\n",
    "    model.build_vocab(it)\n",
    "    for epoch in range(10):\n",
    "        model.train(it)\n",
    "        model.alpha -= 0.002 # decrease the learning rate\n",
    "        model.min_alpha = model.alpha # fix the learning rate, no decay\n",
    "    model.save(model_file)\n",
    "    \n",
    "build_doc2vec_model(\"./topic_data.json\", \"./topic_doc2vec.model\")    "
   ]
  },
  {
   "cell_type": "code",
   "execution_count": 416,
   "metadata": {
    "slideshow": {
     "slide_type": "skip"
    }
   },
   "outputs": [
    {
     "name": "stdout",
     "output_type": "stream",
     "text": [
      "CPU times: user 719 ms, sys: 87.2 ms, total: 806 ms\n",
      "Wall time: 827 ms\n"
     ]
    }
   ],
   "source": [
    "%%time\n",
    "\n",
    "model = Doc2Vec.load('./topic_doc2vec.model')\n",
    "tensor_out_fn = './topic_doc2vec.tsv' \n",
    "labels_out_fn = './topic_doc2vec_labels.tsv'\n",
    "\n",
    "with open(labels_out_fn, 'w') as labels_out, open(tensor_out_fn, 'w') as tensor_out:\n",
    "    for wd in model.docvecs.doctags:\n",
    "        tensor_out.write(\"\\t\".join([str(i) for i in model.docvecs[wd].tolist()]))\n",
    "        tensor_out.write('\\n')\n",
    "        labels_out.write('%s\\n' % (wd))"
   ]
  },
  {
   "cell_type": "markdown",
   "metadata": {
    "slideshow": {
     "slide_type": "slide"
    }
   },
   "source": [
    "### Applications of Word Vectors"
   ]
  },
  {
   "cell_type": "markdown",
   "metadata": {},
   "source": [
    "#### Finding `primary target keyword` for an article. \n",
    "\n",
    "Steps for finding Primary target keywords.\n",
    "\n",
    "* For the a given article, find the most important keywords / phrases for the given article.\n",
    "* Collect a list of keywords and search volumes.\n",
    "* Filter the keyword list by `search volume`.\n",
    "* For each `tf-idf phrase` find the combination of word-similarity and `tf-idf score`."
   ]
  },
  {
   "cell_type": "markdown",
   "metadata": {
    "slideshow": {
     "slide_type": "slide"
    }
   },
   "source": [
    "### Visualizations of word vectors\n",
    "\n",
    "#### Finding Topic Gaps\n",
    "\n",
    "* **[Topic Performance Visualizer](http://projector.tensorflow.org/?config=https://raw.githubusercontent.com/nikhilalmeida/presentations/master/socal_python_2018/nlp/data/template_projector_config.json)**\n",
    "\n",
    "* **[Competitor Topic Difference Analysis](https://www.dropbox.com/s/4ylcr8mox70oodx/finance%20topics.png?dl=0)**\n"
   ]
  },
  {
   "cell_type": "markdown",
   "metadata": {},
   "source": [
    "<img src=\"./img/topic_gaps.png\" height=\"820\" width=\"620\" />"
   ]
  },
  {
   "cell_type": "markdown",
   "metadata": {
    "slideshow": {
     "slide_type": "skip"
    }
   },
   "source": [
    "# References\n",
    "* [Vector Similarity](https://github.com/taki0112/Vector_Similarity)\n",
    "* [A Hybrid Geometric Approach for Measuring Similarity Level Among Documents and Document Clustering](https://github.com/taki0112/Vector_Similarity/blob/master/TS-SS_paper.pdf)"
   ]
  },
  {
   "cell_type": "code",
   "execution_count": 31,
   "metadata": {},
   "outputs": [
    {
     "data": {
      "text/html": [
       "body{ font-size: 150%}\n",
       "\n"
      ],
      "text/plain": [
       "<IPython.core.display.HTML object>"
      ]
     },
     "execution_count": 31,
     "metadata": {},
     "output_type": "execute_result"
    }
   ],
   "source": [
    "from IPython.core.display import HTML\n",
    "\n",
    "def css():\n",
    "    style = open(\"./custom.css\", \"r\").read()\n",
    "    return HTML(style)\n",
    "css()\n"
   ]
  },
  {
   "cell_type": "code",
   "execution_count": null,
   "metadata": {},
   "outputs": [],
   "source": []
  }
 ],
 "metadata": {
  "kernelspec": {
   "display_name": "Python 3",
   "language": "python",
   "name": "python3"
  },
  "language_info": {
   "codemirror_mode": {
    "name": "ipython",
    "version": 3
   },
   "file_extension": ".py",
   "mimetype": "text/x-python",
   "name": "python",
   "nbconvert_exporter": "python",
   "pygments_lexer": "ipython3",
   "version": "3.6.0"
  }
 },
 "nbformat": 4,
 "nbformat_minor": 2
}
