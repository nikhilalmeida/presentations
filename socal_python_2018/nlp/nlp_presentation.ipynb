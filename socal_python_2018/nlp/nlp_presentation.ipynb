{
 "cells": [
  {
   "cell_type": "markdown",
   "metadata": {
    "slideshow": {
     "slide_type": "slide"
    }
   },
   "source": [
    "# Building NLP Tools for SEO\n",
    "\n",
    "##### Nikhil Almeida\n",
    "##### Sr. Manager Data Science\n",
    "##### Consumer Track"
   ]
  },
  {
   "cell_type": "markdown",
   "metadata": {
    "slideshow": {
     "slide_type": "-"
    }
   },
   "source": [
    "# Agenda\n"
   ]
  },
  {
   "cell_type": "markdown",
   "metadata": {
    "slideshow": {
     "slide_type": "slide"
    }
   },
   "source": [
    "# SEO"
   ]
  },
  {
   "cell_type": "markdown",
   "metadata": {
    "slideshow": {
     "slide_type": "subslide"
    }
   },
   "source": [
    "### What is SEO?\n",
    "SEO stands for “search engine optimization.” It is the process of getting traffic from the “free,” “organic,” “editorial” or “natural” search results on search engines.\n"
   ]
  },
  {
   "cell_type": "markdown",
   "metadata": {
    "slideshow": {
     "slide_type": "subslide"
    }
   },
   "source": [
    "### SEO Success Factors\n",
    "\n",
    "|On Page|Off Page   |\n",
    "|---|---|\n",
    "|Quality   |Authority   |\n",
    "|Content Research|Engage   |\n",
    "|Words   |Link Quality   |\n",
    "|Fresh|Link Text|\n",
    "|Answers|Social Reputation|\n",
    "|Thin|Number of Ads|\n",
    "|Relevant Titles|Site History|\n",
    "\n"
   ]
  },
  {
   "cell_type": "markdown",
   "metadata": {
    "slideshow": {
     "slide_type": "subslide"
    }
   },
   "source": [
    "<img src=\"./2017-SEO_Periodic_Table.png\" />\n",
    "https://searchengineland.com/seotable"
   ]
  },
  {
   "cell_type": "markdown",
   "metadata": {},
   "source": [
    "## SEO Data & Sources\n",
    "\n",
    "* **Keywords**\n",
    "* **Search Volume**\n",
    "* **Keyword Potential** \n",
    "* **Keyword opportunity**\n",
    "* **SERP Ranks**\n",
    "* **Topic Authority**\n",
    "\n"
   ]
  },
  {
   "cell_type": "markdown",
   "metadata": {},
   "source": [
    "# Tools Built\n",
    "* Related Content Module\n",
    "* Content De-Duplication\n",
    "* Question Detection\n",
    "* Title / Brief Creation\n",
    "* Topic Authority\n",
    "* Topic Detection\n",
    "* Keyword Classification into Topics\n",
    "* Keyword Potential\n",
    "* Text Summarization"
   ]
  },
  {
   "cell_type": "markdown",
   "metadata": {
    "slideshow": {
     "slide_type": "slide"
    }
   },
   "source": [
    "# Text Blob\n",
    "\n",
    "TextBlob aims to provide access to common text-processing operations through a familiar interface. You can treat TextBlob objects as if they were Python strings that learned how to do Natural Language Processing.\n"
   ]
  },
  {
   "cell_type": "code",
   "execution_count": 93,
   "metadata": {
    "slideshow": {
     "slide_type": "fragment"
    }
   },
   "outputs": [
    {
     "data": {
      "text/plain": [
       "[Sentence(\"A mad boxer sent a quick, gloved jab to the jaw of his dizzy opponent.\"),\n",
       " Sentence(\"The quick brown fox jumps over the lazy dog.\"),\n",
       " Sentence(\"The five boxing wizards jump quickly.\")]"
      ]
     },
     "execution_count": 93,
     "metadata": {},
     "output_type": "execute_result"
    }
   ],
   "source": [
    "from textblob import TextBlob\n",
    "blob = TextBlob(\"A mad boxer sent a quick, gloved jab to the jaw of his dizzy opponent. The quick brown fox jumps over the lazy dog. The five boxing wizards jump quickly.\")\n",
    "blob.sentences\n"
   ]
  },
  {
   "cell_type": "code",
   "execution_count": 95,
   "metadata": {
    "slideshow": {
     "slide_type": "fragment"
    }
   },
   "outputs": [
    {
     "data": {
      "text/plain": [
       "WordList(['A', 'mad', 'boxer', 'sent', 'a', 'quick', 'gloved', 'jab', 'to', 'the', 'jaw', 'of', 'his', 'dizzy', 'opponent'])"
      ]
     },
     "execution_count": 95,
     "metadata": {},
     "output_type": "execute_result"
    }
   ],
   "source": [
    "blob.sentences[0].words"
   ]
  },
  {
   "cell_type": "markdown",
   "metadata": {
    "slideshow": {
     "slide_type": "subslide"
    }
   },
   "source": [
    "### Part-of-Speech Tagging"
   ]
  },
  {
   "cell_type": "code",
   "execution_count": 105,
   "metadata": {
    "slideshow": {
     "slide_type": "skip"
    }
   },
   "outputs": [],
   "source": [
    "pos_mapper = {\"CC\": \"Coordinating conjunction\",\n",
    "\"CD\": \"Cardinal number\",\n",
    "\"DT\": \"Determiner\",\n",
    "\"EX\": \"Existential there\",\n",
    "\"FW\": \"Foreign word\",\n",
    "\"IN\": \"Preposition or subordinating conjunction\",\n",
    "\"JJ\": \"Adjective\",\n",
    "\"JJR\": \"Adjective, comparative\",\n",
    "\"JJS\": \"Adjective, superlative\",\n",
    "\"LS\": \"List item marker\",\n",
    "\"MD\": \"Modal\",\n",
    "\"NN\": \"Noun, singular or mass\",\n",
    "\"NNS\": \"Noun, plural\",\n",
    "\"NNP\": \"Proper noun, singular\",\n",
    "\"NNPS\": \"Proper noun, plural\",\n",
    "\"PDT\": \"Predeterminer\",\n",
    "\"POS\": \"Possessive ending\",\n",
    "\"PRP\": \"Personal pronoun\",\n",
    "\"PRP$\": \"Possessive pronoun\",\n",
    "\"RB\": \"Adverb\",\n",
    "\"RBR\": \"Adverb, comparative\",\n",
    "\"RBS\": \"Adverb, superlative\",\n",
    "\"RP\": \"Particle\",\n",
    "\"SYM\": \"Symbol\",\n",
    "\"TO\": \"to\",\n",
    "\"UH\": \"Interjection\",\n",
    "\"VB\": \"Verb, base form\",\n",
    "\"VBD\": \"Verb, past tense\",\n",
    "\"VBG\": \"Verb, gerund or present participle\",\n",
    "\"VBN\": \"Verb, past participle\",\n",
    "\"VBP\": \"Verb, non-3rd person singular present\",\n",
    "\"VBZ\": \"Verb, 3rd person singular present\",\n",
    "\"WDT\": \"Wh-determiner\",\n",
    "\"WP\": \"Wh-pronoun\",\n",
    "\"WP$\": \"Possessive wh-pronoun\",\n",
    "\"WRB\": \"Wh-adverb\"}\n"
   ]
  },
  {
   "cell_type": "markdown",
   "metadata": {},
   "source": [
    "## References\n",
    "* https://www.ling.upenn.edu/courses/Fall_2003/ling001/penn_treebank_pos.html\n",
    "* http://language.worldofcomputing.net/pos-tagging/parts-of-speech-tagging.html"
   ]
  },
  {
   "cell_type": "code",
   "execution_count": 106,
   "metadata": {
    "slideshow": {
     "slide_type": "subslide"
    }
   },
   "outputs": [
    {
     "name": "stdout",
     "output_type": "stream",
     "text": [
      "The quick brown fox jumps over the lazy dog. \n",
      "\n",
      " Tags:  [('The', 'DT'), ('quick', 'JJ'), ('brown', 'NN'), ('fox', 'NN'), ('jumps', 'VBZ'), ('over', 'IN'), ('the', 'DT'), ('lazy', 'JJ'), ('dog', 'NN')] \n",
      "\n",
      "The---DT---Determiner\n",
      "quick---JJ---Adjective\n",
      "brown---NN---Noun, singular or mass\n",
      "fox---NN---Noun, singular or mass\n",
      "jumps---VBZ---Verb, 3rd person singular present\n",
      "over---IN---Preposition or subordinating conjunction\n",
      "the---DT---Determiner\n",
      "lazy---JJ---Adjective\n",
      "dog---NN---Noun, singular or mass\n"
     ]
    }
   ],
   "source": [
    "sentence = blob.sentences[1]\n",
    "print(sentence, \"\\n\\n\", \"Tags: \", sentence.tags, '\\n')\n",
    "for tag in sentence.tags:\n",
    "    print(\"{}---{}---{}\".format(tag[0], tag[1], pos_mapper[tag[1]]))\n",
    "\n"
   ]
  },
  {
   "cell_type": "markdown",
   "metadata": {
    "slideshow": {
     "slide_type": "subslide"
    }
   },
   "source": [
    "### Noun Phrases\n",
    "A noun phrase includes a noun—a person, place, or thing—and the modifiers which distinguish it.\n"
   ]
  },
  {
   "cell_type": "code",
   "execution_count": 102,
   "metadata": {},
   "outputs": [
    {
     "data": {
      "text/plain": [
       "WordList(['mad boxer', 'dizzy opponent'])"
      ]
     },
     "execution_count": 102,
     "metadata": {},
     "output_type": "execute_result"
    }
   ],
   "source": [
    "\n",
    "blob.sentences[0].noun_phrases"
   ]
  },
  {
   "cell_type": "markdown",
   "metadata": {
    "slideshow": {
     "slide_type": "subslide"
    }
   },
   "source": [
    "### Applications of POS Tagging"
   ]
  },
  {
   "cell_type": "markdown",
   "metadata": {
    "slideshow": {
     "slide_type": "subslide"
    }
   },
   "source": [
    "* Word Sense Disambiguation (Easy Search Improvements)\n",
    "* Named Entity Resolution\n",
    "* Sentiment Analysis\n",
    "* Question Answering"
   ]
  },
  {
   "cell_type": "markdown",
   "metadata": {
    "slideshow": {
     "slide_type": "subslide"
    }
   },
   "source": [
    "#### Question Detection"
   ]
  },
  {
   "cell_type": "code",
   "execution_count": 111,
   "metadata": {
    "slideshow": {
     "slide_type": "skip"
    }
   },
   "outputs": [],
   "source": [
    "import spacy\n",
    "from spacy.en import English\n",
    "import json\n",
    "from nltk import Tree\n",
    "import os\n",
    "nlp = English()\n",
    "from IPython.display import display, Markdown, Latex\n"
   ]
  },
  {
   "cell_type": "code",
   "execution_count": 112,
   "metadata": {},
   "outputs": [],
   "source": [
    "# Tree Visualizer\n",
    "def tok_format(tok):\n",
    "    return \"_\".join([tok.orth_, tok.tag_, str(tok.dep_)])\n",
    "\n",
    "\n",
    "def to_nltk_tree(node):\n",
    "    if node.n_lefts + node.n_rights > 0:\n",
    "        return Tree(tok_format(node), [to_nltk_tree(child) for child in node.children])\n",
    "    else:\n",
    "        return tok_format(node)\n",
    "\n",
    "def print_tree(sent):\n",
    "    doc = nlp(sent)\n",
    "    print(sent)\n",
    "    [to_nltk_tree(sent.root).pretty_print() for sent in doc.sents]  "
   ]
  },
  {
   "cell_type": "code",
   "execution_count": 116,
   "metadata": {},
   "outputs": [
    {
     "name": "stdout",
     "output_type": "stream",
     "text": [
      "How was the moon formed?\n",
      "               formed_VBN_ROOT                        \n",
      "       _______________|________________________        \n",
      "      |               |            |     moon_NN_nsubj\n",
      "      |               |            |           |       \n",
      "How_WRB_advmod was_VBD_auxpass ?_._punct   the_DT_det \n",
      "\n"
     ]
    }
   ],
   "source": [
    "print_tree(\"How was the moon formed?\")\n"
   ]
  },
  {
   "cell_type": "code",
   "execution_count": 117,
   "metadata": {},
   "outputs": [
    {
     "name": "stdout",
     "output_type": "stream",
     "text": [
      "Is California the best state in the union?\n",
      "                     Is_VBZ_ROOT                               \n",
      "     _____________________|_____________                        \n",
      "    |                            California_NNP_n              \n",
      "    |                                  subj                    \n",
      "    |                                   |                       \n",
      "    |                             state_NN_appos               \n",
      "    |          _________________________|_______________        \n",
      "    |         |                         |           in_IN_prep \n",
      "    |         |                         |               |       \n",
      "    |         |                         |         union_NN_pobj\n",
      "    |         |                         |               |       \n",
      "?_._punct the_DT_det              best_JJS_amod     the_DT_det \n",
      "\n"
     ]
    }
   ],
   "source": [
    "print_tree(\"Is California the best state in the union?\")"
   ]
  },
  {
   "cell_type": "markdown",
   "metadata": {},
   "source": [
    "<img src=\"./spacy dependency visualizer.png\" />"
   ]
  },
  {
   "cell_type": "code",
   "execution_count": 123,
   "metadata": {
    "slideshow": {
     "slide_type": "subslide"
    }
   },
   "outputs": [],
   "source": [
    "def is_question(_sentence):\n",
    "    sentence = list(nlp(_sentence).sents)[0]\n",
    "    if len(sentence) > 15:\n",
    "        return False\n",
    "    root = sentence.root\n",
    "    _is_question = False\n",
    "    ROOT_QUESTION_VERBS = ['VBD','VBG','VBN', 'VBP','VBZ', 'MD', 'TO']\n",
    "    VERBS = [ 'VBD','VBG','VBN', 'VBP', 'VBZ','MD', 'TO', 'VB']\n",
    "    WH_QUESTIONS = ['WP', 'WP$', 'WRB', 'WDT']\n",
    "\n",
    "    if root.n_lefts == 0: \n",
    "        return root.tag_ in set(ROOT_QUESTION_VERBS  + VERBS)\n",
    "\n",
    "    for child in root.lefts:\n",
    "        if child.tag_ in WH_QUESTIONS:\n",
    "            continue\n",
    "        if child.tag_ in VERBS:\n",
    "            if child.dep_ == 'aux':\n",
    "                return True\n",
    "        return False\n",
    "    return True\n"
   ]
  },
  {
   "cell_type": "code",
   "execution_count": 126,
   "metadata": {
    "slideshow": {
     "slide_type": "subslide"
    }
   },
   "outputs": [
    {
     "data": {
      "text/plain": [
       "True"
      ]
     },
     "execution_count": 126,
     "metadata": {},
     "output_type": "execute_result"
    }
   ],
   "source": [
    "is_question(\"Is California the best state in the union\")"
   ]
  },
  {
   "cell_type": "code",
   "execution_count": 127,
   "metadata": {},
   "outputs": [
    {
     "data": {
      "text/plain": [
       "True"
      ]
     },
     "execution_count": 127,
     "metadata": {},
     "output_type": "execute_result"
    }
   ],
   "source": [
    "is_question(\"Did the brown fox jump over the lazy dog.\")"
   ]
  },
  {
   "cell_type": "code",
   "execution_count": 128,
   "metadata": {},
   "outputs": [
    {
     "data": {
      "text/plain": [
       "True"
      ]
     },
     "execution_count": 128,
     "metadata": {},
     "output_type": "execute_result"
    }
   ],
   "source": [
    "is_question(\"Will Anthony go to Tokyo\")"
   ]
  },
  {
   "cell_type": "markdown",
   "metadata": {
    "slideshow": {
     "slide_type": "slide"
    }
   },
   "source": [
    "### Sentiment Analysis"
   ]
  },
  {
   "cell_type": "code",
   "execution_count": 133,
   "metadata": {},
   "outputs": [
    {
     "name": "stdout",
     "output_type": "stream",
     "text": [
      "Sentiment(polarity=0.8, subjectivity=0.75)\n"
     ]
    }
   ],
   "source": [
    "print(TextBlob(\"I think california is great\").sentiment)"
   ]
  },
  {
   "cell_type": "code",
   "execution_count": 135,
   "metadata": {},
   "outputs": [
    {
     "name": "stdout",
     "output_type": "stream",
     "text": [
      "Sentiment(polarity=-0.4, subjectivity=0.75)\n"
     ]
    }
   ],
   "source": [
    "print(TextBlob(\"california is not great\").sentiment)"
   ]
  },
  {
   "cell_type": "code",
   "execution_count": 143,
   "metadata": {},
   "outputs": [
    {
     "name": "stdout",
     "output_type": "stream",
     "text": [
      "Sentiment(polarity=0.0, subjectivity=0.0)\n"
     ]
    }
   ],
   "source": [
    "print(TextBlob(\"california's has a population of 39.4M people\").sentiment)"
   ]
  },
  {
   "cell_type": "markdown",
   "metadata": {
    "slideshow": {
     "slide_type": "subslide"
    }
   },
   "source": [
    "### Named Entity Detection\n",
    "some more stuff"
   ]
  },
  {
   "cell_type": "markdown",
   "metadata": {
    "slideshow": {
     "slide_type": "slide"
    }
   },
   "source": [
    "### Word Distances\n"
   ]
  },
  {
   "cell_type": "code",
   "execution_count": 153,
   "metadata": {
    "slideshow": {
     "slide_type": "subslide"
    }
   },
   "outputs": [],
   "source": [
    "import Levenshtein\n"
   ]
  },
  {
   "cell_type": "markdown",
   "metadata": {
    "slideshow": {
     "slide_type": "skip"
    }
   },
   "source": [
    "##### References\n",
    "* https://rawgit.com/ztane/python-Levenshtein/master/docs/Levenshtein.html"
   ]
  },
  {
   "cell_type": "markdown",
   "metadata": {
    "slideshow": {
     "slide_type": "subslide"
    }
   },
   "source": [
    "####  Levenshtein Distance\n",
    "The distance is the number of deletions, insertions, or substitutions required to transform string A into string B."
   ]
  },
  {
   "cell_type": "code",
   "execution_count": 149,
   "metadata": {
    "slideshow": {
     "slide_type": "-"
    }
   },
   "outputs": [
    {
     "data": {
      "text/plain": [
       "1"
      ]
     },
     "execution_count": 149,
     "metadata": {},
     "output_type": "execute_result"
    }
   ],
   "source": [
    "A = \"SoCal Python\"\n",
    "B = \"So Cal Python\"\n",
    "Levenshtein.distance(A, B)"
   ]
  },
  {
   "cell_type": "markdown",
   "metadata": {
    "slideshow": {
     "slide_type": "subslide"
    }
   },
   "source": [
    "#### Hamming Distance\n",
    "The Hamming distance is simply the number of differing characters. That means the length of the strings must be the same."
   ]
  },
  {
   "cell_type": "code",
   "execution_count": 152,
   "metadata": {},
   "outputs": [
    {
     "data": {
      "text/plain": [
       "2"
      ]
     },
     "execution_count": 152,
     "metadata": {},
     "output_type": "execute_result"
    }
   ],
   "source": [
    "A = \"Southern California Python\"\n",
    "B = \"Northern California Python\"\n",
    "Levenshtein.hamming(A, B)"
   ]
  },
  {
   "cell_type": "markdown",
   "metadata": {
    "slideshow": {
     "slide_type": "subslide"
    }
   },
   "source": [
    "#### Jaro\n",
    "The Jaro string similarity metric is intended for short strings like personal last names. It is 0 for completely different strings and 1 for identical strings.\n",
    "\n",
    "#### Jaro-Winkler\n",
    "The Jaro-Winkler string similarity metric is a modification of Jaro metric giving more weight to common prefix, as spelling mistakes are more likely to occur near ends of words.\n",
    "\n",
    "The prefix weight is inverse value of common prefix length sufficient to consider the strings *identical*. If no prefix weight is specified, 1/10 is used."
   ]
  },
  {
   "cell_type": "code",
   "execution_count": null,
   "metadata": {},
   "outputs": [],
   "source": []
  },
  {
   "cell_type": "markdown",
   "metadata": {
    "slideshow": {
     "slide_type": "slide"
    }
   },
   "source": [
    "# Word Vectors\n",
    "print(1,2,3,4)"
   ]
  },
  {
   "cell_type": "markdown",
   "metadata": {
    "slideshow": {
     "slide_type": "subslide"
    }
   },
   "source": [
    "### What are word vectors"
   ]
  },
  {
   "cell_type": "markdown",
   "metadata": {
    "slideshow": {
     "slide_type": "subslide"
    }
   },
   "source": [
    "### Types of word vectors\n",
    "1. One hot encoding\n",
    "2. Count Vectorizer\n",
    "3. TF_IDF\n",
    "4. Word2vec & Glove Vectors"
   ]
  },
  {
   "cell_type": "markdown",
   "metadata": {
    "slideshow": {
     "slide_type": "subslide"
    }
   },
   "source": [
    "### Visualizations of word vectors"
   ]
  }
 ],
 "metadata": {
  "kernelspec": {
   "display_name": "Python 3",
   "language": "python",
   "name": "python3"
  },
  "language_info": {
   "codemirror_mode": {
    "name": "ipython",
    "version": 3
   },
   "file_extension": ".py",
   "mimetype": "text/x-python",
   "name": "python",
   "nbconvert_exporter": "python",
   "pygments_lexer": "ipython3",
   "version": "3.6.0"
  }
 },
 "nbformat": 4,
 "nbformat_minor": 2
}
